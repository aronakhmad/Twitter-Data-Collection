{
 "metadata": {
  "language_info": {
   "codemirror_mode": {
    "name": "ipython",
    "version": 3
   },
   "file_extension": ".py",
   "mimetype": "text/x-python",
   "name": "python",
   "nbconvert_exporter": "python",
   "pygments_lexer": "ipython3",
   "version": "3.9.0-final"
  },
  "orig_nbformat": 2,
  "kernelspec": {
   "name": "python3",
   "display_name": "Python 3.9.0 64-bit",
   "metadata": {
    "interpreter": {
     "hash": "ac2eaa0ea0ebeafcc7822e65e46aa9d4f966f30b695406963e145ea4a91cd4fc"
    }
   }
  }
 },
 "nbformat": 4,
 "nbformat_minor": 2,
 "cells": [
  {
   "source": [
    "# Twitter Data Collection\n",
    "\n",
    "In this program we're going to extract Twitter data using Twitter API"
   ],
   "cell_type": "markdown",
   "metadata": {}
  },
  {
   "source": [
    "***\n",
    "## Import Modules\n",
    "First of all, we need to import modules needed for the data collection process. The followings are the modules that we need:<br><br>\n",
    "1. Tweepy --> to crawl the data.<br>\n",
    "2. Pandas --> to organize and export the collected twitter data into a file.\n"
   ],
   "cell_type": "markdown",
   "metadata": {}
  },
  {
   "cell_type": "code",
   "execution_count": 1,
   "metadata": {},
   "outputs": [],
   "source": [
    "import tweepy as tw\n",
    "import pandas as pd"
   ]
  },
  {
   "source": [
    "## Define your Twitter API credentials\n",
    "Define your Twitter developer credentials to connect to Twitter API in order to be able to crawl data from it."
   ],
   "cell_type": "markdown",
   "metadata": {}
  },
  {
   "cell_type": "code",
   "execution_count": 2,
   "metadata": {},
   "outputs": [],
   "source": [
    "api_key = 'YOUR_API_KEY'\n",
    "api_secret_key = 'YOUR_API_SECRET_KEY'\n",
    "access_token = 'YOUR_ACCESS_TOKEN'\n",
    "access_token_secret = 'YOUR_ACCESS_TOKEN_SECRET'"
   ]
  },
  {
   "cell_type": "code",
   "execution_count": 3,
   "metadata": {},
   "outputs": [],
   "source": [
    "auth = tw.OAuthHandler(api_key, api_secret_key)\n",
    "auth.set_access_token(access_token, access_token_secret)\n",
    "api = tw.API(auth, wait_on_rate_limit=True, wait_on_rate_limit_notify=True)"
   ]
  },
  {
   "source": [
    "## Collecting Data\n",
    "Define the keywords to filter the twitter data that you want to collect. The data collection process is done using the Cursor function by Tweepy module. The amount of tweets collected could be set up manually, in this case we only extract 10 twitter data just for instance. You can also set the language from the \"lang\" parameter. For more information about the function/module you can check its documentation on the internet."
   ],
   "cell_type": "markdown",
   "metadata": {}
  },
  {
   "cell_type": "code",
   "execution_count": 4,
   "metadata": {},
   "outputs": [],
   "source": [
    "key_words = \"SpaceX since:2020-11-10 -filter:replies -filter:retweets\"\n",
    "\n",
    "search_result = tw.Cursor(api.search,\n",
    "              q=key_words,\n",
    "              lang=\"id\",\n",
    "              truncated=True).items(10)"
   ]
  },
  {
   "source": [
    "## Extract Data Information\n",
    "The data returned by the module will be in JSON format and it contains a lot of parameter of informations, you may choose informations that you're going to use later on. In this code, we'll be extracting following informations:<br><br>\n",
    "1. User screen name<br>\n",
    "2. Tweet<br>\n",
    "3. Retweets count<br>\n",
    "4. Likes count<br>\n",
    "5. Tweet's location<br>\n",
    "6. Source of Tweet<br>\n",
    "7. Account's verified status<br>\n",
    "8. Account's date of creation<br>\n",
    "9. Profile image attachment<br>\n",
    "10. Bio attachment<br>\n",
    "11. Statuses count<br>\n",
    "12. Followings count<br>\n",
    "13. Followers count<br>\n",
    "14. Account's location<br>"
   ],
   "cell_type": "markdown",
   "metadata": {}
  },
  {
   "cell_type": "code",
   "execution_count": 5,
   "metadata": {},
   "outputs": [],
   "source": [
    "crawling_result = [api.get_status(data.id, tweet_mode=\"extended\") for data in search_result]\n",
    "\n",
    "tweet_list = [[status.user.screen_name, status.full_text, status.retweet_count, status.favorite_count, status.geo, status.source, status.user.verified, status.author.created_at, status.author.default_profile_image, status.author.default_profile, status.user.statuses_count, status.user.friends_count, status.user.followers_count, status.user.location] for status in crawling_result]"
   ]
  },
  {
   "source": [
    "### Converting the tweet_list into dataframe\n",
    "we're converting the list into dataframe just so the data will be more organized and easier to read."
   ],
   "cell_type": "markdown",
   "metadata": {}
  },
  {
   "cell_type": "code",
   "execution_count": 6,
   "metadata": {},
   "outputs": [
    {
     "output_type": "execute_result",
     "data": {
      "text/plain": [
       "          username                                              tweet  \\\n",
       "0    aristiaelvina  Indonesia sibuk dengan berbagai permasalahan y...   \n",
       "1     WartaEkonomi  Peluncuran SpaceX, Apa Kegiatan Astronautnya d...   \n",
       "2      SinarOnline  Tiga rakyat AS dan seorang warga Jepun berlepa...   \n",
       "3        tw0savage  Aku ingat diorang meniarap kat katil urut http...   \n",
       "4       Amsyarnaif  Bestnya keluar bumi. Takde covid hmm https://t...   \n",
       "5       Aisa_jaafa  pagi tadi dalam kelas pon layan live spacex la...   \n",
       "6        RioAaGoGo  melok po o, ndk kene rusuh nemen https://t.co/...   \n",
       "7  AdukaTaruna1453  Macam baju dalam Interstellar. Damn cool https...   \n",
       "8         yaksat__              Hati hati bro https://t.co/yCI1mVYOH9   \n",
       "9         detikcom  Empat astronot telah diluncurkan dari Florida ...   \n",
       "\n",
       "   retweet_count  like_count location               device  verified_status  \\\n",
       "0              0           0     None  Twitter for Android            False   \n",
       "1              0           0     None        Warta Ekonomi            False   \n",
       "2              0           1     None      Twitter Web App            False   \n",
       "3              0           0     None  Twitter for Android            False   \n",
       "4              1           5     None   Twitter for iPhone            False   \n",
       "5              0           0     None  Twitter for Android            False   \n",
       "6              0           0     None   Twitter for iPhone            False   \n",
       "7              0           0     None  Twitter for Android            False   \n",
       "8              0           0     None  Twitter for Android            False   \n",
       "9              0          12     None              Echobox             True   \n",
       "\n",
       "    acc_creation_date  no_profile_pic  no_bio  tweets_count  followings_count  \\\n",
       "0 2019-08-01 12:40:46           False    True          3571               109   \n",
       "1 2009-04-12 07:01:14           False   False        383674              2298   \n",
       "2 2011-07-08 02:51:57           False   False        539514               560   \n",
       "3 2020-09-20 00:38:56           False    True          2368               688   \n",
       "4 2016-02-03 04:56:21           False    True         63199               323   \n",
       "5 2011-09-26 09:51:21           False   False         16652               157   \n",
       "6 2011-08-03 01:06:16           False   False         12284               399   \n",
       "7 2017-03-09 08:48:07           False    True          9922               124   \n",
       "8 2019-08-05 02:36:02           False    True          4987               420   \n",
       "9 2009-08-27 03:03:05           False   False       1720276                30   \n",
       "\n",
       "   followers_count               user_location  \n",
       "0              126                              \n",
       "1            22589          Jakarta, Indonesia  \n",
       "2           636832                    Malaysia  \n",
       "3              140                              \n",
       "4            11235                    Malaysia  \n",
       "5              241                              \n",
       "6              215  Malang-East Java-Indonesia  \n",
       "7              170                              \n",
       "8              151             Bali, Indonesia  \n",
       "9         16325840          Jakarta, Indonesia  "
      ],
      "text/html": "<div>\n<style scoped>\n    .dataframe tbody tr th:only-of-type {\n        vertical-align: middle;\n    }\n\n    .dataframe tbody tr th {\n        vertical-align: top;\n    }\n\n    .dataframe thead th {\n        text-align: right;\n    }\n</style>\n<table border=\"1\" class=\"dataframe\">\n  <thead>\n    <tr style=\"text-align: right;\">\n      <th></th>\n      <th>username</th>\n      <th>tweet</th>\n      <th>retweet_count</th>\n      <th>like_count</th>\n      <th>location</th>\n      <th>device</th>\n      <th>verified_status</th>\n      <th>acc_creation_date</th>\n      <th>no_profile_pic</th>\n      <th>no_bio</th>\n      <th>tweets_count</th>\n      <th>followings_count</th>\n      <th>followers_count</th>\n      <th>user_location</th>\n    </tr>\n  </thead>\n  <tbody>\n    <tr>\n      <th>0</th>\n      <td>aristiaelvina</td>\n      <td>Indonesia sibuk dengan berbagai permasalahan y...</td>\n      <td>0</td>\n      <td>0</td>\n      <td>None</td>\n      <td>Twitter for Android</td>\n      <td>False</td>\n      <td>2019-08-01 12:40:46</td>\n      <td>False</td>\n      <td>True</td>\n      <td>3571</td>\n      <td>109</td>\n      <td>126</td>\n      <td></td>\n    </tr>\n    <tr>\n      <th>1</th>\n      <td>WartaEkonomi</td>\n      <td>Peluncuran SpaceX, Apa Kegiatan Astronautnya d...</td>\n      <td>0</td>\n      <td>0</td>\n      <td>None</td>\n      <td>Warta Ekonomi</td>\n      <td>False</td>\n      <td>2009-04-12 07:01:14</td>\n      <td>False</td>\n      <td>False</td>\n      <td>383674</td>\n      <td>2298</td>\n      <td>22589</td>\n      <td>Jakarta, Indonesia</td>\n    </tr>\n    <tr>\n      <th>2</th>\n      <td>SinarOnline</td>\n      <td>Tiga rakyat AS dan seorang warga Jepun berlepa...</td>\n      <td>0</td>\n      <td>1</td>\n      <td>None</td>\n      <td>Twitter Web App</td>\n      <td>False</td>\n      <td>2011-07-08 02:51:57</td>\n      <td>False</td>\n      <td>False</td>\n      <td>539514</td>\n      <td>560</td>\n      <td>636832</td>\n      <td>Malaysia</td>\n    </tr>\n    <tr>\n      <th>3</th>\n      <td>tw0savage</td>\n      <td>Aku ingat diorang meniarap kat katil urut http...</td>\n      <td>0</td>\n      <td>0</td>\n      <td>None</td>\n      <td>Twitter for Android</td>\n      <td>False</td>\n      <td>2020-09-20 00:38:56</td>\n      <td>False</td>\n      <td>True</td>\n      <td>2368</td>\n      <td>688</td>\n      <td>140</td>\n      <td></td>\n    </tr>\n    <tr>\n      <th>4</th>\n      <td>Amsyarnaif</td>\n      <td>Bestnya keluar bumi. Takde covid hmm https://t...</td>\n      <td>1</td>\n      <td>5</td>\n      <td>None</td>\n      <td>Twitter for iPhone</td>\n      <td>False</td>\n      <td>2016-02-03 04:56:21</td>\n      <td>False</td>\n      <td>True</td>\n      <td>63199</td>\n      <td>323</td>\n      <td>11235</td>\n      <td>Malaysia</td>\n    </tr>\n    <tr>\n      <th>5</th>\n      <td>Aisa_jaafa</td>\n      <td>pagi tadi dalam kelas pon layan live spacex la...</td>\n      <td>0</td>\n      <td>0</td>\n      <td>None</td>\n      <td>Twitter for Android</td>\n      <td>False</td>\n      <td>2011-09-26 09:51:21</td>\n      <td>False</td>\n      <td>False</td>\n      <td>16652</td>\n      <td>157</td>\n      <td>241</td>\n      <td></td>\n    </tr>\n    <tr>\n      <th>6</th>\n      <td>RioAaGoGo</td>\n      <td>melok po o, ndk kene rusuh nemen https://t.co/...</td>\n      <td>0</td>\n      <td>0</td>\n      <td>None</td>\n      <td>Twitter for iPhone</td>\n      <td>False</td>\n      <td>2011-08-03 01:06:16</td>\n      <td>False</td>\n      <td>False</td>\n      <td>12284</td>\n      <td>399</td>\n      <td>215</td>\n      <td>Malang-East Java-Indonesia</td>\n    </tr>\n    <tr>\n      <th>7</th>\n      <td>AdukaTaruna1453</td>\n      <td>Macam baju dalam Interstellar. Damn cool https...</td>\n      <td>0</td>\n      <td>0</td>\n      <td>None</td>\n      <td>Twitter for Android</td>\n      <td>False</td>\n      <td>2017-03-09 08:48:07</td>\n      <td>False</td>\n      <td>True</td>\n      <td>9922</td>\n      <td>124</td>\n      <td>170</td>\n      <td></td>\n    </tr>\n    <tr>\n      <th>8</th>\n      <td>yaksat__</td>\n      <td>Hati hati bro https://t.co/yCI1mVYOH9</td>\n      <td>0</td>\n      <td>0</td>\n      <td>None</td>\n      <td>Twitter for Android</td>\n      <td>False</td>\n      <td>2019-08-05 02:36:02</td>\n      <td>False</td>\n      <td>True</td>\n      <td>4987</td>\n      <td>420</td>\n      <td>151</td>\n      <td>Bali, Indonesia</td>\n    </tr>\n    <tr>\n      <th>9</th>\n      <td>detikcom</td>\n      <td>Empat astronot telah diluncurkan dari Florida ...</td>\n      <td>0</td>\n      <td>12</td>\n      <td>None</td>\n      <td>Echobox</td>\n      <td>True</td>\n      <td>2009-08-27 03:03:05</td>\n      <td>False</td>\n      <td>False</td>\n      <td>1720276</td>\n      <td>30</td>\n      <td>16325840</td>\n      <td>Jakarta, Indonesia</td>\n    </tr>\n  </tbody>\n</table>\n</div>"
     },
     "metadata": {},
     "execution_count": 6
    }
   ],
   "source": [
    "tweet_df = pd.DataFrame(data = tweet_list, \n",
    "                    columns=[\"username\", \"tweet\", \"retweet_count\", \"like_count\", \"location\", \"device\", \"verified_status\", \"acc_creation_date\",\"no_profile_pic\", \"no_bio\", \"tweets_count\", \"followings_count\", \"followers_count\", \"user_location\"])\n",
    "tweet_df"
   ]
  },
  {
   "source": [
    "## Saving the data into csv file\n",
    "we're saving the data just in case for further use."
   ],
   "cell_type": "markdown",
   "metadata": {}
  },
  {
   "cell_type": "code",
   "execution_count": 7,
   "metadata": {},
   "outputs": [],
   "source": [
    "tweet_df.to_csv(r'hasil_crawling.csv', index=False)"
   ]
  }
 ]
}